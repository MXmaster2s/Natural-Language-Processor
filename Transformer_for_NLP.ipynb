{
  "nbformat": 4,
  "nbformat_minor": 0,
  "metadata": {
    "colab": {
      "name": "Transformer_for_NLP.ipynb",
      "provenance": []
    },
    "kernelspec": {
      "name": "python3",
      "display_name": "Python 3"
    }
  },
  "cells": [
    {
      "cell_type": "code",
      "metadata": {
        "id": "nEnkM69781QX",
        "colab_type": "code",
        "colab": {}
      },
      "source": [
        "#import dependencies\n",
        "import numpy as np\n",
        "import math\n",
        "import re     #for data cleaning\n",
        "import time   #to use time model\n",
        "from google.colab import drive    #for getting all files from drive\n",
        "import pandas as pd\n",
        "from bs4 import BeautifulSoup"
      ],
      "execution_count": 0,
      "outputs": []
    },
    {
      "cell_type": "code",
      "metadata": {
        "id": "oty3zqMkk9Xa",
        "colab_type": "code",
        "colab": {}
      },
      "source": [
        "#imports related to tensor flow\n",
        "try:\n",
        "  %tensorflow_version 2.x\n",
        "except:\n",
        "  pass\n",
        "import tensorflow as tf\n",
        "\n",
        "from tensorflow.keras import layers\n",
        "import tensorflow_datasets as tfds  "
      ],
      "execution_count": 0,
      "outputs": []
    },
    {
      "cell_type": "code",
      "metadata": {
        "id": "bDawHylVmDAF",
        "colab_type": "code",
        "outputId": "ecf1c146-0b23-4431-fb86-98ab7de34a09",
        "colab": {
          "base_uri": "https://localhost:8080/",
          "height": 125
        }
      },
      "source": [
        "drive.mount(\"/content/drive\")"
      ],
      "execution_count": 0,
      "outputs": [
        {
          "output_type": "stream",
          "text": [
            "Go to this URL in a browser: https://accounts.google.com/o/oauth2/auth?client_id=947318989803-6bn6qk8qdgf4n4g3pfee6491hc0brc4i.apps.googleusercontent.com&redirect_uri=urn%3aietf%3awg%3aoauth%3a2.0%3aoob&response_type=code&scope=email%20https%3a%2f%2fwww.googleapis.com%2fauth%2fdocs.test%20https%3a%2f%2fwww.googleapis.com%2fauth%2fdrive%20https%3a%2f%2fwww.googleapis.com%2fauth%2fdrive.photos.readonly%20https%3a%2f%2fwww.googleapis.com%2fauth%2fpeopleapi.readonly\n",
            "\n",
            "Enter your authorization code:\n",
            "··········\n",
            "Mounted at /content/drive\n"
          ],
          "name": "stdout"
        }
      ]
    },
    {
      "cell_type": "code",
      "metadata": {
        "id": "ic8gVycBpZ0Z",
        "colab_type": "code",
        "colab": {}
      },
      "source": [
        "cols = [\"sentiments\", \"id\", \"date\", \"query\", \"user\", \"text\"]\n",
        "data = pd.read_csv(\n",
        "    \"/content/drive/My Drive/projects/CNN_for_NLP/data/train.csv\",\n",
        "    header=None,\n",
        "    names=cols,\n",
        "    engine=\"python\",\n",
        "    encoding=\"latin1\" \n",
        ")\n",
        "test_data = pd.read_csv(\n",
        "    \"/content/drive/My Drive/projects/CNN_for_NLP/data/test.csv\",\n",
        "    header=None,\n",
        "    names=cols,\n",
        "    engine=\"python\",\n",
        "    encoding=\"latin1\"\n",
        ")"
      ],
      "execution_count": 0,
      "outputs": []
    },
    {
      "cell_type": "code",
      "metadata": {
        "id": "0JFzlXUxtn3d",
        "colab_type": "code",
        "colab": {}
      },
      "source": [
        "data.drop([\"id\", \"date\", \"query\", \"user\"],\n",
        "          axis=1,\n",
        "          inplace=True)"
      ],
      "execution_count": 0,
      "outputs": []
    },
    {
      "cell_type": "code",
      "metadata": {
        "id": "ScDcZq2LxYtT",
        "colab_type": "code",
        "colab": {}
      },
      "source": [
        "def clean_tweet(tweet):\n",
        "  tweet = BeautifulSoup(tweet, \"lxml\").get_text()\n",
        "  tweet = re.sub(r\"@[A-Za-z0-9]+\", ' ', tweet)\n",
        "  tweet = re.sub(r\"https?://[A-Za-z0-9./]+\", ' ', tweet)\n",
        "  tweet = re.sub(r\"^[a-zA-Z.!?']\", ' ', tweet)\n",
        "  tweet = re.sub(r\" +\", \" \", tweet)\n",
        "  return tweet"
      ],
      "execution_count": 0,
      "outputs": []
    },
    {
      "cell_type": "code",
      "metadata": {
        "id": "CiVWh0q3z2H1",
        "colab_type": "code",
        "colab": {}
      },
      "source": [
        "data_clean = [clean_tweet(tweet) for tweet in data.text]"
      ],
      "execution_count": 0,
      "outputs": []
    },
    {
      "cell_type": "code",
      "metadata": {
        "id": "06m_GOCn0WdL",
        "colab_type": "code",
        "colab": {}
      },
      "source": [
        "data_labels = data.sentiments.values\n",
        "data_labels[data_labels == 4] = 1"
      ],
      "execution_count": 0,
      "outputs": []
    },
    {
      "cell_type": "code",
      "metadata": {
        "id": "MbATQ7810bqY",
        "colab_type": "code",
        "colab": {}
      },
      "source": [
        "tokenizer = tfds.features.text.SubwordTextEncoder.build_from_corpus(\n",
        "    data_clean, target_vocab_size=2**16\n",
        ")\n",
        "data_inputs = [tokenizer.encode(sentence) for sentence in data_clean]"
      ],
      "execution_count": 0,
      "outputs": []
    },
    {
      "cell_type": "code",
      "metadata": {
        "id": "WPOssNbC4bRV",
        "colab_type": "code",
        "colab": {}
      },
      "source": [
        "MAX_LEN = max([len(sentence) for sentence in data_inputs])\n",
        "data_inputs = tf.keras.preprocessing.sequence.pad_sequences(data_inputs,\n",
        "                                                            value=0,\n",
        "                                                           padding =\"post\",\n",
        "                                                           maxlen = MAX_LEN)"
      ],
      "execution_count": 0,
      "outputs": []
    },
    {
      "cell_type": "code",
      "metadata": {
        "id": "BS5YALNx6NXp",
        "colab_type": "code",
        "colab": {}
      },
      "source": [
        "test_idx = np.random.randint(0, 800000, 8000)\n",
        "test_idx = np.concatenate((test_idx, test_idx+800000))"
      ],
      "execution_count": 0,
      "outputs": []
    },
    {
      "cell_type": "code",
      "metadata": {
        "id": "9jWAlaI-6hpP",
        "colab_type": "code",
        "colab": {}
      },
      "source": [
        "test_inputs = data_inputs[test_idx]\n",
        "test_labels = data_labels[test_idx]\n",
        "train_inputs = np.delete(data_inputs, test_idx, axis=0)\n",
        "train_labels = np.delete(data_labels, test_idx)"
      ],
      "execution_count": 0,
      "outputs": []
    },
    {
      "cell_type": "code",
      "metadata": {
        "id": "r3qf3bbK9ppx",
        "colab_type": "code",
        "colab": {}
      },
      "source": [
        "class DCNN(tf.keras.Model):\n",
        "\n",
        "  def __init__(self,\n",
        "               vocab_size,\n",
        "               emb_dim=128,\n",
        "               nb_filters=50,\n",
        "               FFN_units=512,\n",
        "               nb_classes=2,\n",
        "               dropout_rate=0.1,\n",
        "               training=False,\n",
        "               name=\"dcnn\"):\n",
        "      super(DCNN, self).__init__(name=name)\n",
        "\n",
        "      self.embedding = layers.Embedding(vocab_size, \n",
        "                                        emb_dim)\n",
        "      self.bigram = layers.Conv1D(filters=nb_filters,\n",
        "                                kernel_size=2,\n",
        "                                padding=\"valid\",\n",
        "                                activation=\"relu\")\n",
        "      self.pool_1 = layers.GlobalMaxPool1D()\n",
        "      self.trigram = layers.Conv1D(filters=nb_filters,\n",
        "                                  kernel_size=3,\n",
        "                                  padding=\"valid\",\n",
        "                                  activation=\"relu\")\n",
        "      self.pool_2 = layers.GlobalMaxPool1D()\n",
        "      self.fourgram = layers.Conv1D(filters=nb_filters,\n",
        "                                kernel_size=4,\n",
        "                                padding=\"valid\",\n",
        "                                activation=\"relu\")\n",
        "      self.pool_3 = layers.GlobalMaxPool1D()\n",
        "      self.dense_1 = layers.Dense(units=FFN_units, activation=\"relu\")\n",
        "      self.dropout = layers.Dropout(rate=dropout_rate)\n",
        "      if nb_classes ==2:\n",
        "        self.last_dense = layers.Dense(units=1,\n",
        "                                     activation=\"sigmoid\")\n",
        "      else:\n",
        "        self.lastdense = layers.Dense(units=nb_classes,\n",
        "                                    activation = \"softmax\")\n",
        "      \n",
        "  def call (self, inputs, training):\n",
        "      x = self.embedding(inputs)\n",
        "      x_1 = self.bigram(x)\n",
        "      x_1 = self.pool_1(x_1)\n",
        "      x_2 = self.trigram(x)\n",
        "      x_2 = self.pool_2(x_2)\n",
        "      x_3 = self.fourgram(x)\n",
        "      x_3 = self.pool_3(x_3)\n",
        "\n",
        "      merged = tf.concat([x_1, x_2, x_3], axis=-1) \n",
        "      merged = self.dense_1(merged)\n",
        "      merged = self.dropout(merged, training)\n",
        "      output = self.last_dense(merged)\n",
        "\n",
        "      return output"
      ],
      "execution_count": 0,
      "outputs": []
    },
    {
      "cell_type": "code",
      "metadata": {
        "id": "dDOHdtrFBg-E",
        "colab_type": "code",
        "colab": {}
      },
      "source": [
        "VOCAB_SIZE = tokenizer.vocab_size\n",
        "\n",
        "EMB_DIM = 200\n",
        "NB_FILTERS = 100\n",
        "FFN_UNITS = 256\n",
        "NB_CLASSES = len(set(train_labels))\n",
        "\n",
        "DROPOUT_RATE = 0.2\n",
        "\n",
        "BATCH_SIZE = 32\n",
        "NB_EPOCHS = 5 "
      ],
      "execution_count": 0,
      "outputs": []
    },
    {
      "cell_type": "code",
      "metadata": {
        "id": "bXQtD7rNEw8N",
        "colab_type": "code",
        "colab": {}
      },
      "source": [
        "Dcnn = DCNN(vocab_size=VOCAB_SIZE,\n",
        "            emb_dim=EMB_DIM,\n",
        "            nb_filters=NB_FILTERS,\n",
        "            FFN_units=FFN_UNITS,\n",
        "            nb_classes=NB_CLASSES,\n",
        "            dropout_rate=DROPOUT_RATE)"
      ],
      "execution_count": 0,
      "outputs": []
    },
    {
      "cell_type": "code",
      "metadata": {
        "id": "6ILknyIQFNy-",
        "colab_type": "code",
        "colab": {}
      },
      "source": [
        "if NB_CLASSES == 2:\n",
        "  Dcnn.compile(loss=\"binary_crossentropy\",\n",
        "               optimizer = \"adam\",\n",
        "               metrics = [\"accuracy\"])\n",
        "else:\n",
        "  Dcnn.compile(loss=\"sparse_categorical_crossentropy\",\n",
        "               optimizer=\"adam\",\n",
        "               metrics=[\"sparse_categorical_accuracy\"])"
      ],
      "execution_count": 0,
      "outputs": []
    },
    {
      "cell_type": "code",
      "metadata": {
        "id": "UlPd9C6mGAAb",
        "colab_type": "code",
        "colab": {}
      },
      "source": [
        "checkpoint_path = \"./drive/My Drive/projects/CNN_for_NLP/ckpt/\"\n",
        "\n",
        "ckpt = tf.train.Checkpoint(Dcnn=Dcnn)\n",
        "\n",
        "ckpt_manager = tf.train.CheckpointManager(ckpt, checkpoint_path, max_to_keep=1)\n",
        "\n",
        "if ckpt_manager.latest_checkpoint:\n",
        "  ckpt.restore(ckpt_manager.latest_checkpoint)\n",
        "  print(\"Latest Checkpoint Restored!!\")"
      ],
      "execution_count": 0,
      "outputs": []
    },
    {
      "cell_type": "code",
      "metadata": {
        "id": "iWVLukUMG94g",
        "colab_type": "code",
        "colab": {}
      },
      "source": [
        "Dcnn.fit(train_inputs,\n",
        "         train_labels,\n",
        "         batch_size=BATCH_SIZE,\n",
        "         epochs=NB_EPOCHS)\n",
        "ckpt_manager.save()"
      ],
      "execution_count": 0,
      "outputs": []
    },
    {
      "cell_type": "code",
      "metadata": {
        "id": "QOJIu1tXkWZY",
        "colab_type": "code",
        "colab": {}
      },
      "source": [
        "results = Dcnn.evaluate(test_inputs, test_labels, batch_size=BATCH_SIZE)\n",
        "print(results)"
      ],
      "execution_count": 0,
      "outputs": []
    },
    {
      "cell_type": "code",
      "metadata": {
        "id": "_KWycVa5Mp8o",
        "colab_type": "code",
        "colab": {}
      },
      "source": [
        "Dcnn = (np.array([tokenizer.encode(\"you are funny\")]), training=False).numpy()"
      ],
      "execution_count": 0,
      "outputs": []
    }
  ]
}